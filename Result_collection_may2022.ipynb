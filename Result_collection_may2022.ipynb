{
 "cells": [
  {
   "cell_type": "markdown",
   "metadata": {},
   "source": [
    "# Result Collection, Regional population projection\n",
    "\n",
    "#### may 2022 version\n",
    "only the output part\n",
    "\n",
    "### email from Sturla\n",
    "\n",
    "\n",
    "I want a file with a few different policy relavant population aggregates:\n",
    "•\tTotal population \n",
    "•\tPopulation in childcare age (1-5 at end of year)  \n",
    "•\tPopulation in primary school age (age 6-12 at the end of year)  \n",
    "•\tPopulation in lower secondary school age (age 13-15 at the end of year)  \n",
    "•\tElderly population (80+ at end of year)\n",
    "•\tVery old population (90+ at end of year)\n",
    "\n",
    "We should have one observation of the number of people in these groups across all municipalities, years and simulations. Returning a file with variables: knr, year, sim_id, pop_all, pop0105, pop0612, pop1315, pop8000 pop9000 and 10m obs (356*29*1000). \n",
    "\n",
    "\n",
    "#### Python scripts to collect and orgainze the simulation results from microsimulations.\n",
    "Input files:\n",
    "- sim_outxxx.pkl\n",
    "generated using sim_main.py, the parameters can be set through sim_para.py.\n",
    "the python scripts using paralle computational techinque and can be ran on server stata-p3 using python3 command directly from command line. \n"
   ]
  },
  {
   "cell_type": "markdown",
   "metadata": {},
   "source": []
  },
  {
   "cell_type": "code",
   "execution_count": 1,
   "metadata": {},
   "outputs": [],
   "source": [
    "### libary importation and some global parameters:\n",
    "\n",
    "import numpy as np\n",
    "import matplotlib.pyplot as plt\n",
    "import scipy.optimize as spo\n",
    "import pandas as pd\n",
    "import seaborn as sns\n",
    "import subprocess\n",
    "import os \n",
    "from itertools import compress\n",
    "import copy\n",
    "import pickle\n",
    "\n",
    "pd.set_option('float_format', '{:f}'.format)\n"
   ]
  },
  {
   "cell_type": "code",
   "execution_count": 2,
   "metadata": {},
   "outputs": [
    {
     "name": "stdout",
     "output_type": "stream",
     "text": [
      "total number of available CPUs is 32\n"
     ]
    }
   ],
   "source": [
    "import sim_para\n",
    "\n",
    "\n",
    "\n",
    "# maxage=120\n",
    "# range_fertility=49-15+1\n",
    "# max_year=31\n",
    "# number_region=356\n",
    "# move_age=69\n",
    "\n",
    "\n",
    "sim_mark=sim_para.sim_mark\n",
    "\n",
    "path = sim_para.path\n",
    "max_year=sim_para.max_year\n",
    "base_year=sim_para.base_year\n",
    "move_age=sim_para.move_age\n",
    "number_region=sim_para.number_region\n",
    "maxage=sim_para.maxage\n",
    "range_fertility=sim_para.range_fertility\n",
    "start_year=sim_para.start_year\n",
    "png_dir=path+'/gif_dir/'\n",
    "\n",
    "## simulation results are saved with suffixes 'xxx' so that different \n",
    "## simulation runs can be used\n",
    "\n",
    "# run_index_list=['2', '3', '4']\n",
    "run_index_list=[str(i) for i in range(sim_para.number_loop)]\n",
    "#for i in range(4):\n",
    "#    run_index_list.pop(0)\n",
    "\n",
    "## select the three regions\n",
    "\n",
    "region_selection=[0, 22, 122, 227]\n",
    "region_name=['Oslo','Utsira', 'Eidsvoll', 'Bygland']\n",
    "\n",
    "Region_label=[\"county \"+str(i)+\" \" for i in range(1, number_region+1)]\n",
    "Region_label[122]='Eidsvoll'  \n",
    "Region_label[0]='Oslo'  \n",
    "Region_label[22]='Utsira'\n",
    "Region_label[227]='Bygland'  \n",
    "Region_label.append(\"nationwide \")"
   ]
  },
  {
   "cell_type": "markdown",
   "metadata": {},
   "source": [
    "## input simulation results"
   ]
  },
  {
   "cell_type": "code",
   "execution_count": 3,
   "metadata": {},
   "outputs": [],
   "source": [
    "\n",
    "res=[]\n",
    "## read in the simulatin rsults\n",
    "for index in run_index_list:\n",
    "    file = open(path+'/sim_out'+sim_mark+index+'.pkl', 'rb')\n",
    "    res.append(pickle.load(file))\n",
    "    file.close()\n",
    "\n"
   ]
  },
  {
   "cell_type": "code",
   "execution_count": 4,
   "metadata": {},
   "outputs": [
    {
     "name": "stdout",
     "output_type": "stream",
     "text": [
      "simulation number  1000\n",
      "simulate 29 years\n"
     ]
    }
   ],
   "source": [
    "## find out the number of simulations and number of prediction years\n",
    "number_loop=len(res)\n",
    "print('simulation number ',number_loop)\n",
    "number_year=len(res[0][0])-1\n",
    "print(\"simulate %s years\" % number_year)"
   ]
  },
  {
   "cell_type": "code",
   "execution_count": 5,
   "metadata": {},
   "outputs": [
    {
     "data": {
      "text/plain": [
       "1000"
      ]
     },
     "execution_count": 5,
     "metadata": {},
     "output_type": "execute_result"
    }
   ],
   "source": [
    "## separate the informations\n",
    "\n",
    "'''\n",
    "# the structure of the output\n",
    "# list \n",
    "## first level: index simulation runs, list [number_loop]\n",
    "## second level: [0] summary of population, list [number_year]\n",
    "                         3 dimensional array [age, sex, region]\n",
    "                 [1] summary of immigrants, list [number_year]\n",
    "                         3 dimensional array [age, sex, region]\n",
    "                 [2] summary of newborns, \n",
    "                         2 dimensional array [sex, region]\n",
    "                 [3] summary of deaths,     \n",
    "                         3 dimensional array [age, sex, region]\n",
    "                 [4] summary of outmigrants,\n",
    "                         3 dimensional array [age, sex, region]                \n",
    "                 [5] summary of in-country mover,\n",
    "                         4 dimensional array [age, sex, region, 2]\n",
    "We reorganize this to 5 listst ,which correspond to the above 5 different information and have the same structure\n",
    "'''\n",
    "sim_size_full=[]\n",
    "sim_im=[]\n",
    "sim_newborn=[]\n",
    "sim_dead=[]\n",
    "sim_out=[]\n",
    "sim_move=[]\n",
    "sim_totalnewborn=[]\n",
    "sim_fertile=[]\n",
    "sim_fertile_actual=[]\n",
    "\n",
    "for i in range(len(res)):\n",
    "    sim_size_full.append(res[i][0])\n",
    "    sim_im.append(res[i][1])\n",
    "    sim_newborn.append(res[i][2])\n",
    "    sim_dead.append(res[i][3]) \n",
    "    sim_out.append(res[i][4]) \n",
    "    sim_move.append(res[i][5])\n",
    "    sim_fertile.append(res[i][6])\n",
    "    sim_fertile_actual.append(res[i][7])\n",
    "    sim_totalnewborn.append([np.sum(res[i][2][j]) for j in range(number_year+1)])\n",
    "\n",
    "len(sim_size_full)\n"
   ]
  },
  {
   "cell_type": "code",
   "execution_count": 25,
   "metadata": {},
   "outputs": [
    {
     "name": "stdout",
     "output_type": "stream",
     "text": [
      "0 0.00022482872009277344\n",
      "1 0.00030732154846191406\n",
      "0 0.00035691261291503906\n",
      "1 0.00039124488830566406\n",
      "0 0.00044655799865722656\n",
      "1 0.0004811286926269531\n",
      "0 0.0005223751068115234\n",
      "1 0.0005559921264648438\n",
      "0.0006256103515625\n"
     ]
    },
    {
     "data": {
      "text/plain": [
       "[[1, 2022, 0, 709070.0, 38340.0, 50629.0, 21441.0, 22229.0, 4808.0],\n",
       " [1, 2022, 1, 14871.0, 807.0, 1254.0, 618.0, 691.0, 122.0],\n",
       " [1, 2023, 0, 714458.0, 38186.0, 50315.0, 21696.0, 23228.0, 4740.0],\n",
       " [1, 2023, 1, 14905.0, 819.0, 1220.0, 627.0, 712.0, 123.0],\n",
       " [2, 2022, 0, 708804.0, 38516.0, 50626.0, 21375.0, 22256.0, 4795.0],\n",
       " [2, 2022, 1, 14803.0, 799.0, 1255.0, 621.0, 693.0, 126.0],\n",
       " [2, 2023, 0, 714811.0, 38617.0, 50298.0, 21593.0, 23214.0, 4736.0],\n",
       " [2, 2023, 1, 14796.0, 810.0, 1212.0, 624.0, 713.0, 131.0]]"
      ]
     },
     "execution_count": 25,
     "metadata": {},
     "output_type": "execute_result"
    }
   ],
   "source": [
    "import time\n",
    "start_time=time.time()\n",
    "list_out=[]\n",
    "for i in range(2):\n",
    "    for j in range(2):\n",
    "        temp=res[i][0][j+1]\n",
    "        for r in range(2):\n",
    "        # loop, projection year, region, total population, childcare,primary, lower, elderly,over90\n",
    "            list_temp=[i+1, start_year+j, r, np.sum(temp[:,:,r]), np.sum(temp[1:6,:,r]), np.sum(temp[6:13,:,r]),  np.sum(temp[13:16,:,r]), np.sum(temp[80:,:,r]), np.sum(temp[90:,:,r])]\n",
    "            list_out.append(list_temp)\n",
    "            print(r, time.time()-start_time)\n",
    "        \n",
    "\n",
    "print(time.time()-start_time)\n",
    "list_out"
   ]
  },
  {
   "cell_type": "code",
   "execution_count": 16,
   "metadata": {},
   "outputs": [
    {
     "data": {
      "text/plain": [
       "[[1, 2022, 0, 709070.0, 38340.0, 50629.0, 21441.0, 22229.0, 4808.0],\n",
       " [1, 2022, 1, 14871.0, 807.0, 1254.0, 618.0, 691.0, 122.0],\n",
       " [1, 2023, 0, 714458.0, 38186.0, 50315.0, 21696.0, 23228.0, 4740.0],\n",
       " [1, 2023, 1, 14905.0, 819.0, 1220.0, 627.0, 712.0, 123.0],\n",
       " [2, 2022, 0, 708804.0, 38516.0, 50626.0, 21375.0, 22256.0, 4795.0],\n",
       " [2, 2022, 1, 14803.0, 799.0, 1255.0, 621.0, 693.0, 126.0],\n",
       " [2, 2023, 0, 714811.0, 38617.0, 50298.0, 21593.0, 23214.0, 4736.0],\n",
       " [2, 2023, 1, 14796.0, 810.0, 1212.0, 624.0, 713.0, 131.0]]"
      ]
     },
     "execution_count": 16,
     "metadata": {},
     "output_type": "execute_result"
    }
   ],
   "source": [
    "list_out"
   ]
  },
  {
   "cell_type": "code",
   "execution_count": 21,
   "metadata": {},
   "outputs": [],
   "source": [
    "test_out=pd.DataFrame(list_out)"
   ]
  },
  {
   "cell_type": "code",
   "execution_count": 22,
   "metadata": {},
   "outputs": [],
   "source": [
    "df_knr=pd.read_csv(path+'/'+'df_knr.csv')\n",
    "test_out = test_out.set_axis([\"loop\", \"year\", \"region\", \"population\", \"childcare\", \"primary\", \"lower\", \"elderly\", \"over90\"], axis=1)\n",
    "df_uncertainty=test_out.merge(df_knr, on='region')\n",
    "df_uncertainty.drop(columns=['region'], inplace=True)"
   ]
  },
  {
   "cell_type": "code",
   "execution_count": 24,
   "metadata": {},
   "outputs": [],
   "source": [
    "df_uncertainty.to_csv(path+'/'+'uncertainty_sim.csv', index=False)"
   ]
  },
  {
   "cell_type": "code",
   "execution_count": null,
   "metadata": {},
   "outputs": [],
   "source": [
    "\n",
    "temp_sim_size_full=np.sum(sim_size_full, 0)/number_loop\n",
    "temp_sim_dead=np.sum(sim_dead, 0)/number_loop\n",
    "temp_sim_im=np.sum(sim_im, 0)/number_loop\n",
    "temp_sim_out=np.sum(sim_out, 0)/number_loop\n",
    "temp_sim_newborn=np.sum(sim_newborn, 0)/number_loop\n",
    "temp_sim_move=np.sum(sim_move, 0)/number_loop\n",
    "\n",
    "res_sim_size_full=np.zeros((number_year+1,120,2,356))\n",
    "res_sim_dead=np.zeros((number_year+1,120,2,356))\n",
    "res_sim_newborn=np.zeros((number_year+1,2,356))\n",
    "res_sim_im=np.zeros((number_year+1,120,2,356))\n",
    "res_sim_out=np.zeros((number_year+1,120,2,356))\n",
    "res_sim_move=np.zeros((number_year+1,120,2,356,2))\n",
    "\n",
    "                    \n",
    "for i in range(number_year+1):\n",
    "    #print(i)\n",
    "    for j in range(120):\n",
    "        for k in range(2):\n",
    "            for l in range(356):\n",
    "                res_sim_size_full[i,j,k,l]=temp_sim_size_full[i][j,k,l]\n",
    "                res_sim_dead[i,j,k,l]=temp_sim_dead[i][j,k,l]\n",
    "                if j==0:\n",
    "                    res_sim_newborn[i,k,l]=temp_sim_newborn[i][k,l]\n",
    "                if j<=move_age:\n",
    "                    res_sim_im[i,j,k,l]=temp_sim_im[i][j,k,l]\n",
    "                    res_sim_out[i,j,k,l]=temp_sim_out[i][j,k,l]\n",
    "                    # moving out of region l\n",
    "                    res_sim_move[i,j,k,l,0]=temp_sim_move[i,j,k,l,0]\n",
    "                    res_sim_move[i,j,k,l,1]=temp_sim_move[i,j,k,l,1]\n"
   ]
  },
  {
   "cell_type": "code",
   "execution_count": null,
   "metadata": {},
   "outputs": [],
   "source": [
    "## generate a array with number of total population at year 25 for selected regions.\n",
    "#\n",
    "pop_size_selected=np.zeros((number_loop, len(region_selection)))\n",
    "p_year=number_year\n",
    "for j in range(len(region_selection)):\n",
    "    pop_size_selected[:,j]=[np.sum([sim_size_full[i][p_year][:,:,region_selection[j]]]) for i in range(number_loop)]"
   ]
  },
  {
   "cell_type": "code",
   "execution_count": null,
   "metadata": {},
   "outputs": [],
   "source": [
    "pd.DataFrame(pop_size_selected).to_csv(path+\"/pop_region.csv\")\n",
    "print(\"done\")"
   ]
  },
  {
   "cell_type": "code",
   "execution_count": null,
   "metadata": {},
   "outputs": [],
   "source": [
    "print(sim_totalnewborn[:2])\n",
    "out=np.zeros((number_loop, number_year+1))\n",
    "for j in range(number_year+1):\n",
    "    out[:,j]=[sim_totalnewborn[i][j] for i in range(number_loop)]\n"
   ]
  },
  {
   "cell_type": "code",
   "execution_count": null,
   "metadata": {},
   "outputs": [],
   "source": [
    "fertility_table=[np.zeros((number_region,range_fertility)) for i in range(max_year)]\n",
    "\n",
    "def set_fertility(file):\n",
    "    datafile=path+'/'+file\n",
    "    data_in=pd.read_csv(datafile)  \n",
    "        #print(data_in)\n",
    "    for index, row in data_in.iterrows():\n",
    "        # index_temp starts at zero\n",
    "        index_temp=int(row.year-base_year-1)\n",
    "        # region: 0-355\n",
    "        r=int(row.region)\n",
    "        #age starts from 15\n",
    "        a=int(row.age)-15\n",
    "        fertility_table[index_temp][r,a]=row.prob \n",
    "        \n",
    "set_fertility(\"fertility.csv\")\n",
    "        \n",
    "# calculate teh expected number of birth\n",
    "count=np.zeros((number_loop,number_year))\n",
    "birth=np.zeros((number_loop,number_year))\n",
    "\n",
    "for ii in range(number_loop):\n",
    "    for i in range(number_year):\n",
    "        year=base_year+i+1\n",
    "        for r in range(number_region):\n",
    "            for j in range(range_fertility):\n",
    "                # take the number of females (aged 14 to 48 at the end of last year) \n",
    "                a=14+j\n",
    "                birth[ii,i]=birth[ii,i]+sim_size_full[ii][i][a,1,r]*fertility_table[i][r,j]\n",
    "                #birth[ii,i]=birth[ii,i]+sim_size_full[ii][i][a,1,r]*0.05\n",
    "                count[ii,i]=count[ii,i]+sim_size_full[ii][i][a,1,r]\n",
    "\n",
    "# the simulated birth\n",
    "for i in range(number_year):\n",
    "    #number of total fertile women\n",
    "    print(\"year \", start_year+i)\n",
    "    print(\"average number of fertile women\", np.sum(count[:,i])/number_loop)\n",
    "    a=np.sum(birth[:,i])/number_loop\n",
    "    b=np.sum(out[:,i+1])/number_loop\n",
    "    diff=a-b\n",
    "    print(a, b, diff)\n",
    "    for j in range(10):\n",
    "        start=j*100\n",
    "        stop=(j+1)*100\n",
    "        a=np.sum(birth[start:stop,i])/100\n",
    "        b=np.sum(out[start:stop,i+1])/100\n",
    "        diff=a-b\n",
    "        print(j, a, b, diff)\n",
    "            "
   ]
  },
  {
   "cell_type": "code",
   "execution_count": null,
   "metadata": {},
   "outputs": [],
   "source": [
    "# make the array into a dataframe, where there are (number_year+1)*121*2*356 lines\n",
    "# where columns are 'year_projection', 'age', 'gender', 'region', 'population'\n",
    "\n",
    "lines=(number_year+1)*121*2*356\n",
    "\n",
    "c=0\n",
    "sim_output=np.zeros([lines,5])\n",
    "for i in range(number_year+1):\n",
    "    for j in range(120):\n",
    "        for k in range(2):\n",
    "            for l in range(356):\n",
    "                sim_output[c,0]=i\n",
    "                sim_output[c,1]=j\n",
    "                sim_output[c,2]=k\n",
    "                sim_output[c,3]=l\n",
    "                sim_output[c,4]=res_sim_size_full[i,j,k,l]\n",
    "                c += 1\n",
    "df_sim_size=pd.DataFrame(sim_output)\n",
    "df_sim_size.columns=['year_projection', 'age', 'gender', 'region', 'population']\n",
    "\n",
    "# look at the projection for year 15 (year=0 is the base year)\n",
    "df_sim_size[df_sim_size['year_projection']==15].head()"
   ]
  },
  {
   "cell_type": "code",
   "execution_count": null,
   "metadata": {},
   "outputs": [],
   "source": [
    "df_sim_size[df_sim_size['age']==120].sum()"
   ]
  },
  {
   "cell_type": "code",
   "execution_count": 20,
   "metadata": {},
   "outputs": [],
   "source": [
    "# ## get the knr variable into the dataframe \n",
    "# and save to output file\n",
    "\n",
    "datafile=path+'/'+'population.csv'\n",
    "data_population=pd.read_csv(datafile)\n",
    "\n",
    "a=data_population['knr'].unique()\n",
    "a.sort()\n",
    "\n",
    "df_knr=pd.DataFrame(a)\n",
    "\n",
    "df_knr.reset_index(inplace=True)\n",
    "\n",
    "df_knr.head()\n",
    "\n",
    "df_knr.columns=['region', 'knr' ]\n",
    "\n",
    "df_knr.to_csv(path+'/'+'df_knr.csv', index=False)"
   ]
  },
  {
   "cell_type": "code",
   "execution_count": null,
   "metadata": {},
   "outputs": [],
   "source": [
    "\n",
    "\n",
    "df_knr=pd.read_csv(path+'/'+'df_knr.csv')\n",
    "\n",
    "print(df_knr.head())\n",
    "\n",
    "## merge the region variable in\n",
    "\n",
    "df_pop=df_sim_size.merge(df_knr, on='region')\n",
    "\n",
    "df_pop.drop(columns=['region'], inplace=True)\n",
    "\n",
    "# df_pop[(df_pop['year_projection']==15) & (df_pop['age']==55)].tail()\n",
    "\n",
    "df_pop.to_csv(path+'/'+'population_sim.csv', index=False)"
   ]
  },
  {
   "cell_type": "code",
   "execution_count": null,
   "metadata": {},
   "outputs": [],
   "source": [
    "## check cohort \n",
    "df_pop['year']=df_pop['year_projection']+base_year+1\n",
    "df_pop['cohort']=df_pop['year']-df_pop['age']\n",
    "\n",
    "df_oslo=df_pop[(df_pop['knr']==301) & (df_pop['cohort']==2010)].groupby('age', as_index=False).sum()\n",
    "df_oslo.head()\n",
    "\n",
    "# plot the number of the 2010 cohort at Oslo\n",
    "\n",
    "plt.figure(figsize=(13,10), dpi= 80)\n",
    "plt.plot(df_oslo['age'], df_oslo['population'], '-', color='gray')\n",
    "plt.show()"
   ]
  },
  {
   "cell_type": "markdown",
   "metadata": {},
   "source": [
    "Components by municipality and year (6outcomes x 356munic x 30years)\n",
    "-\tBirths\n",
    "-\tDeaths\n",
    "-\tImmigrations\n",
    "-\tEmigrations\n",
    "-\tIn-migrations (domestic)\n",
    "-\tOut-migration (domestic)\n"
   ]
  },
  {
   "cell_type": "code",
   "execution_count": null,
   "metadata": {},
   "outputs": [],
   "source": [
    "## imput the size of emigrants and out-emigrants\n",
    "im_size=np.zeros(31)\n",
    "em_size=np.zeros(31)\n",
    "\n",
    "def set_im_size(file):\n",
    "    datafile=path+'/'+file\n",
    "    data_in=pd.read_csv(datafile)\n",
    "    for index, row in data_in.iterrows():\n",
    "        index_temp=int(row.year-base_year-1)       \n",
    "        im_size[index_temp]=(row.tot_immigrants)\n",
    "        em_size[index_temp]=(row.tot_emigrants)\n",
    "\n",
    "set_im_size(\"tot_migration.csv\")"
   ]
  },
  {
   "cell_type": "code",
   "execution_count": null,
   "metadata": {},
   "outputs": [],
   "source": [
    "# res_sim_size_full[time_index,age,gender,region]\n",
    "print(res_sim_size_full[0,:,:,:].sum())\n",
    "print(res_sim_size_full[0,4,0,0])"
   ]
  },
  {
   "cell_type": "code",
   "execution_count": null,
   "metadata": {},
   "outputs": [],
   "source": [
    "lines=(number_year+1)*121*2*356\n",
    "\n",
    "c=0\n",
    "sim_out_2=np.zeros([lines,10])\n",
    "\n",
    "for i in range(number_year+1):\n",
    "    #print(i)\n",
    "    for j in range(120):\n",
    "        for k in range(2):\n",
    "            for l in range(356):\n",
    "                sim_out_2[c,0]=i\n",
    "                sim_out_2[c,1]=j\n",
    "                sim_out_2[c,2]=k\n",
    "                sim_out_2[c,3]=l\n",
    "                sim_out_2[c,6]=res_sim_dead[i,j,k,l]\n",
    "                if j==0:\n",
    "                    sim_out_2[c,5]=res_sim_newborn[i,k,l]\n",
    "                if j<= move_age:\n",
    "                    sim_out_2[c,4]=res_sim_im[i,j,k,l]\n",
    "                    sim_out_2[c,7]=res_sim_out[i,j,k,l]\n",
    "                    sim_out_2[c,8]=np.sum(res_sim_move[i,j,k,l,0])\n",
    "                    sim_out_2[c,9]=np.sum(res_sim_move[i,j,k,l,1])\n",
    "                c += 1\n",
    "df_sim_size_2=pd.DataFrame(sim_out_2)\n",
    "df_sim_size_2.columns=['year_projection', 'age', 'sex', 'region', 'immigrants', 'births', 'deaths', 'outmigrants', 'move_out', 'move_in']\n",
    "df_sim_size_2.head()\n"
   ]
  },
  {
   "cell_type": "code",
   "execution_count": null,
   "metadata": {},
   "outputs": [],
   "source": [
    "\n",
    "## nationwide outmigration by project year\n",
    "print('year  simulated size   given size')\n",
    "for i in range(number_year):\n",
    "    print(i+start_year, np.sum(res_sim_out[i+1,:,:,:]), em_size[i])\n"
   ]
  },
  {
   "cell_type": "code",
   "execution_count": null,
   "metadata": {},
   "outputs": [],
   "source": [
    "df_pop=df_sim_size_2.merge(df_knr, on='region')\n",
    "\n",
    "df_pop.drop(columns=['region'], inplace=True)\n",
    "\n",
    "# check consistency between move in/out\n",
    "print(df_pop[df_pop['year_projection']==1]['move_out'].sum())\n",
    "print(df_pop[df_pop['year_projection']==1]['move_in'].sum())\n",
    "\n",
    "df_pop.to_csv(path+'/'+'components_sim.csv', index=False)"
   ]
  },
  {
   "cell_type": "markdown",
   "metadata": {},
   "source": [
    "## Output File requested by Sturla for the report\n",
    "\n",
    "I want a file with a few different policy relavant population aggregates:\n",
    " - \tTotal population \n",
    " - \tPopulation in childcare age (1-5 at end of year)  \n",
    " - \tPopulation in primary school age (age 6-12 at the end of year)  \n",
    " - \tPopulation in lower secondary school age (age 13-15 at the end of year)  \n",
    " - \tElderly population (80+ at end of year)\n",
    " - \tVery old population (90+ at end of year)\n",
    "\n",
    "We should have one observation of the number of people in these groups across all municipalities, years and simulations. Returning a file with variables: knr, year, sim_id, pop_all, pop0105, pop0612, pop1315, pop8000 pop9000 and 10m obs (356*29*1000). \n",
    "\n",
    "\n",
    "All information is based on the number of residents, so we work with sim_size_full\n",
    "\n",
    "sim_size_full is a list (number_loop) of lists (number_year) of 3 dimensional array [age, sex, region]\n",
    "\n",
    "#### sim_size_full[i][j][a,s,r]\n",
    "\n",
    "denotes the number of projected population size for \n",
    "- sim loop i \n",
    "- projection year [base_year+j]\n",
    "- of age a, sex s in region r"
   ]
  },
  {
   "cell_type": "code",
   "execution_count": null,
   "metadata": {},
   "outputs": [],
   "source": [
    "list_out=[]\n",
    "for i in range(1):\n",
    "    for j in range(1):\n",
    "        temp=sim_size_full[i][j+1]\n",
    "        for r in range(1):\n",
    "        # loop, projection year, region, total population, childcare,primary, lower, elderly, \n",
    "        list_temp=[i+1, start_year+j, r, np.sum(temp[:,:,r]), np.sum(temp[1:6,:,r]), np.sum(temp[6:13,:,r]),  np.sum(temp[13:16,:,r]), np.sum(temp[80:,:,r]), np.sum(temp[90:,:,r])]\n",
    "        list_out.append(list_temp)\n",
    "        "
   ]
  },
  {
   "cell_type": "code",
   "execution_count": null,
   "metadata": {},
   "outputs": [],
   "source": [
    "len(sim_size_full)"
   ]
  },
  {
   "cell_type": "code",
   "execution_count": null,
   "metadata": {},
   "outputs": [],
   "source": []
  }
 ],
 "metadata": {
  "kernelspec": {
   "display_name": "Python 3 (gammel)",
   "language": "python",
   "name": "python3"
  },
  "language_info": {
   "codemirror_mode": {
    "name": "ipython",
    "version": 3
   },
   "file_extension": ".py",
   "mimetype": "text/x-python",
   "name": "python",
   "nbconvert_exporter": "python",
   "pygments_lexer": "ipython3",
   "version": "3.8.8"
  }
 },
 "nbformat": 4,
 "nbformat_minor": 4
}
